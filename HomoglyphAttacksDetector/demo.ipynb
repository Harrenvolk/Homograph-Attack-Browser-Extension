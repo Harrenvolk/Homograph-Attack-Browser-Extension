{
 "cells": [
  {
   "cell_type": "code",
   "execution_count": 70,
   "metadata": {},
   "outputs": [],
   "source": [
    "import os\n",
    "import codecs\n",
    "import pickle\n",
    "import random\n",
    "import pandas as pd\n",
    "import numpy as np\n",
    "\n",
    "from vision_models.siamese_cnn import build_model, initialize_encoder\n",
    "from utils.image_utils import generate_imgs, generate_img\n",
    "from keras import backend as K\n",
    "from keras.models import Sequential, Model, model_from_json\n",
    "from keras.utils.vis_utils import plot_model\n",
    "from keras.layers import Dense, Input, Lambda, Flatten, Conv2D, MaxPooling2D\n"
   ]
  },
  {
   "cell_type": "code",
   "execution_count": 71,
   "metadata": {},
   "outputs": [],
   "source": [
    "dataset_type = \"process\"\n",
    "\n",
    "OUTPUT_DIR = 'output'\n",
    "\n",
    "model = build_model((12, 150, 1))\n",
    "\n",
    "model.load_weights(os.path.join(\n",
    "    OUTPUT_DIR, dataset_type + '_cnn.h5'))"
   ]
  },
  {
   "cell_type": "code",
   "execution_count": 72,
   "metadata": {},
   "outputs": [],
   "source": [
    "best_threshold = -0.42333611845970154"
   ]
  },
  {
   "cell_type": "code",
   "execution_count": 73,
   "metadata": {},
   "outputs": [
    {
     "name": "stdout",
     "output_type": "stream",
     "text": [
      "score: [[-0.61786497]], predict: 0\n"
     ]
    }
   ],
   "source": [
    "font_location = \"arial.ttf\"\n",
    "font_size = 10\n",
    "image_size = (150, 12)\n",
    "text_location = (0, 0)\n",
    "\n",
    "x1 = generate_img(\"facebook.com\", font_location, font_size, image_size, text_location).transpose((0, 2, 3, 1))\n",
    "x2 = generate_img(\"google.com\", font_location, font_size, image_size, text_location).transpose((0, 2, 3, 1))\n",
    "\n",
    "score = model.predict([x1, x2])\n",
    "score = - score\n",
    "\n",
    "\n",
    "predict = 1 if score > best_threshold else 0\n",
    "\n",
    "print(\"score: {}, predict: {}\".format(score, predict))"
   ]
  },
  {
   "cell_type": "code",
   "execution_count": null,
   "metadata": {},
   "outputs": [],
   "source": []
  },
  {
   "cell_type": "code",
   "execution_count": 74,
   "metadata": {},
   "outputs": [
    {
     "name": "stdout",
     "output_type": "stream",
     "text": [
      "Model: \"model_24\"\n",
      "__________________________________________________________________________________________________\n",
      "Layer (type)                    Output Shape         Param #     Connected to                     \n",
      "==================================================================================================\n",
      "input_11 (InputLayer)           (None, 12, 150, 1)   0                                            \n",
      "__________________________________________________________________________________________________\n",
      "input_12 (InputLayer)           (None, 12, 150, 1)   0                                            \n",
      "__________________________________________________________________________________________________\n",
      "sequential_6 (Sequential)       (None, 32)           148832      input_11[0][0]                   \n",
      "                                                                 input_12[0][0]                   \n",
      "__________________________________________________________________________________________________\n",
      "lambda_6 (Lambda)               (None, 1)            0           sequential_6[1][0]               \n",
      "                                                                 sequential_6[2][0]               \n",
      "==================================================================================================\n",
      "Total params: 148,832\n",
      "Trainable params: 148,832\n",
      "Non-trainable params: 0\n",
      "__________________________________________________________________________________________________\n"
     ]
    }
   ],
   "source": [
    "model.summary()"
   ]
  },
  {
   "cell_type": "code",
   "execution_count": 75,
   "metadata": {},
   "outputs": [
    {
     "data": {
      "text/plain": [
       "<keras.layers.core.Lambda at 0x7fb9b04ccf90>"
      ]
     },
     "execution_count": 75,
     "metadata": {},
     "output_type": "execute_result"
    }
   ],
   "source": [
    "model.layers.pop()"
   ]
  },
  {
   "cell_type": "code",
   "execution_count": 76,
   "metadata": {},
   "outputs": [
    {
     "name": "stdout",
     "output_type": "stream",
     "text": [
      "Model: \"model_24\"\n",
      "__________________________________________________________________________________________________\n",
      "Layer (type)                    Output Shape         Param #     Connected to                     \n",
      "==================================================================================================\n",
      "input_11 (InputLayer)           (None, 12, 150, 1)   0                                            \n",
      "__________________________________________________________________________________________________\n",
      "input_12 (InputLayer)           (None, 12, 150, 1)   0                                            \n",
      "__________________________________________________________________________________________________\n",
      "sequential_6 (Sequential)       (None, 32)           148832      input_11[0][0]                   \n",
      "                                                                 input_12[0][0]                   \n",
      "==================================================================================================\n",
      "Total params: 148,832\n",
      "Trainable params: 148,832\n",
      "Non-trainable params: 0\n",
      "__________________________________________________________________________________________________\n"
     ]
    }
   ],
   "source": [
    "model.summary()"
   ]
  },
  {
   "cell_type": "code",
   "execution_count": 77,
   "metadata": {},
   "outputs": [
    {
     "name": "stdout",
     "output_type": "stream",
     "text": [
      "[[ 2.289534    2.6532683  -4.58221     3.5852094   1.0972053  -5.0982556\n",
      "   4.938545    0.87652683  3.9663932  -0.053758    4.817107    0.42221114\n",
      "  10.771189   -5.6430125   0.5278939  -3.4828205  -2.7502434   1.9275023\n",
      "  -4.5940933   0.31819794  5.3528743   3.6007512   0.59834546  7.033802\n",
      "  -3.4280343   3.6929526  -0.31919137 -4.0884595   5.757289    3.1631658\n",
      "   0.95044136  0.40167463]]\n"
     ]
    }
   ],
   "source": [
    "\n",
    "inter_output_model = Model(model.input, model.get_layer(index = 2).get_output_at(1) )\n",
    "nter_output = inter_output_model.predict([x1,x2])\n",
    "print(nter_output)"
   ]
  },
  {
   "cell_type": "code",
   "execution_count": 78,
   "metadata": {},
   "outputs": [
    {
     "name": "stdout",
     "output_type": "stream",
     "text": [
      "[[ 2.1348724   2.5969744  -4.3701673   3.649839    1.1777943  -5.2584023\n",
      "   4.7221985   0.7514956   3.8999631  -0.2102518   4.691375    0.37343237\n",
      "  10.760687   -5.591536    0.51418865 -3.3662186  -2.813028    1.9213561\n",
      "  -4.527099    0.17277941  5.424375    3.5424979   0.6657105   6.960746\n",
      "  -3.3491137   3.70502    -0.5405963  -3.9137616   5.6716347   3.1007535\n",
      "   0.9139381   0.4234442 ]]\n"
     ]
    }
   ],
   "source": [
    "inter_output_model1 = Model(model.input, model.get_layer(index = 2).get_output_at(2) )\n",
    "nter_output1 = inter_output_model1.predict([x1,x2])\n",
    "print(nter_output1)"
   ]
  },
  {
   "cell_type": "code",
   "execution_count": 79,
   "metadata": {},
   "outputs": [
    {
     "data": {
      "text/plain": [
       "<tf.Tensor 'sequential_6_1/dense_6/BiasAdd:0' shape=(?, 32) dtype=float32>"
      ]
     },
     "execution_count": 79,
     "metadata": {},
     "output_type": "execute_result"
    }
   ],
   "source": [
    "model.layers[2].get_output_at(-1)"
   ]
  },
  {
   "cell_type": "code",
   "execution_count": 80,
   "metadata": {},
   "outputs": [
    {
     "data": {
      "text/plain": [
       "<keras.engine.sequential.Sequential at 0x7fb9b056f450>"
      ]
     },
     "execution_count": 80,
     "metadata": {},
     "output_type": "execute_result"
    }
   ],
   "source": [
    "model.layers[-1]"
   ]
  },
  {
   "cell_type": "code",
   "execution_count": null,
   "metadata": {},
   "outputs": [],
   "source": []
  }
 ],
 "metadata": {
  "interpreter": {
   "hash": "5beb938abb4747eb7d2bc17a6300647a60c7eb14eb44cc10054fe0eebfed4acc"
  },
  "kernelspec": {
   "display_name": "Python 3",
   "language": "python",
   "name": "python3"
  },
  "language_info": {
   "codemirror_mode": {
    "name": "ipython",
    "version": 3
   },
   "file_extension": ".py",
   "mimetype": "text/x-python",
   "name": "python",
   "nbconvert_exporter": "python",
   "pygments_lexer": "ipython3",
   "version": "3.7.6"
  }
 },
 "nbformat": 4,
 "nbformat_minor": 2
}
